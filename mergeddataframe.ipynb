{
 "cells": [
  {
   "cell_type": "code",
   "execution_count": 1,
   "metadata": {
    "metadata": {}
   },
   "outputs": [],
   "source": [
    "import pandas as pd"
   ]
  },
  {
   "cell_type": "code",
   "execution_count": 3,
   "metadata": {
    "metadata": {}
   },
   "outputs": [],
   "source": [
    "df1 = pd.read_csv('kiwo.csv')\n",
    "df2 = pd.read_csv('umsatzdaten_gekuerzt.csv')\n",
    "df3 = pd.read_csv('wetter.csv')\n",
    "\n",
    "merged_df = pd.concat([df1, df2, df3], ignore_index=True)\n",
    "\n",
    "merged_df.to_csv('merged_data.csv', index=False)"
   ]
  },
  {
   "cell_type": "code",
   "execution_count": 5,
   "metadata": {
    "metadata": {}
   },
   "outputs": [
    {
     "name": "stdout",
     "output_type": "stream",
     "text": [
      "        Datum  KielerWoche  Warengruppe  Umsatz  Bewoelkung  Temperatur  \\\n",
      "0  2012-06-16          1.0          NaN     NaN         NaN         NaN   \n",
      "1  2012-06-17          1.0          NaN     NaN         NaN         NaN   \n",
      "2  2012-06-18          1.0          NaN     NaN         NaN         NaN   \n",
      "3  2012-06-19          1.0          NaN     NaN         NaN         NaN   \n",
      "4  2012-06-20          1.0          NaN     NaN         NaN         NaN   \n",
      "\n",
      "   Windgeschwindigkeit  Wettercode  \n",
      "0                  NaN         NaN  \n",
      "1                  NaN         NaN  \n",
      "2                  NaN         NaN  \n",
      "3                  NaN         NaN  \n",
      "4                  NaN         NaN  \n",
      "<class 'pandas.core.frame.DataFrame'>\n",
      "RangeIndex: 12007 entries, 0 to 12006\n",
      "Data columns (total 8 columns):\n",
      " #   Column               Non-Null Count  Dtype  \n",
      "---  ------               --------------  -----  \n",
      " 0   Datum                12007 non-null  object \n",
      " 1   KielerWoche          72 non-null     float64\n",
      " 2   Warengruppe          9334 non-null   float64\n",
      " 3   Umsatz               9334 non-null   float64\n",
      " 4   Bewoelkung           2591 non-null   float64\n",
      " 5   Temperatur           2601 non-null   float64\n",
      " 6   Windgeschwindigkeit  2601 non-null   float64\n",
      " 7   Wettercode           1932 non-null   float64\n",
      "dtypes: float64(7), object(1)\n",
      "memory usage: 750.6+ KB\n",
      "None\n",
      "            Datum  KielerWoche  Warengruppe      Umsatz  Bewoelkung  \\\n",
      "5825   2014-05-19          NaN          4.0   83.968182         NaN   \n",
      "5259   2017-10-28          NaN          3.0  168.991640         NaN   \n",
      "4306   2015-03-01          NaN          3.0  174.178021         NaN   \n",
      "10580  2015-08-20          NaN          NaN         NaN         1.0   \n",
      "4999   2017-02-06          NaN          3.0   91.362268         NaN   \n",
      "888    2015-10-09          NaN          1.0  149.251608         NaN   \n",
      "378    2014-05-11          NaN          1.0   61.006582         NaN   \n",
      "3946   2014-02-26          NaN          3.0  128.531265         NaN   \n",
      "10029  2014-02-15          NaN          NaN         NaN         5.0   \n",
      "5637   2013-10-25          NaN          4.0   70.053237         NaN   \n",
      "\n",
      "       Temperatur  Windgeschwindigkeit  Wettercode  \n",
      "5825          NaN                  NaN         NaN  \n",
      "5259          NaN                  NaN         NaN  \n",
      "4306          NaN                  NaN         NaN  \n",
      "10580      20.375                  8.0        10.0  \n",
      "4999          NaN                  NaN         NaN  \n",
      "888           NaN                  NaN         NaN  \n",
      "378           NaN                  NaN         NaN  \n",
      "3946          NaN                  NaN         NaN  \n",
      "10029      11.500                 15.0         NaN  \n",
      "5637          NaN                  NaN         NaN  \n",
      "Datum                      0\n",
      "KielerWoche            11935\n",
      "Warengruppe             2673\n",
      "Umsatz                  2673\n",
      "Bewoelkung              9416\n",
      "Temperatur              9406\n",
      "Windgeschwindigkeit     9406\n",
      "Wettercode             10075\n",
      "dtype: int64\n"
     ]
    }
   ],
   "source": [
    "merged_df = pd.read_csv('merged_data.csv')\n",
    "\n",
    "print(merged_df.head())\n",
    "print(merged_df.info())\n",
    "print(merged_df.sample(n=10))\n",
    "\n",
    "print(merged_df.isnull().sum())"
   ]
  },
  {
   "cell_type": "code",
   "execution_count": null,
   "metadata": {},
   "outputs": [],
   "source": []
  }
 ],
 "metadata": {
  "kernelspec": {
   "display_name": "Python 3",
   "language": "python",
   "name": "python3"
  },
  "language_info": {
   "codemirror_mode": {
    "name": "ipython",
    "version": 3
   },
   "file_extension": ".py",
   "mimetype": "text/x-python",
   "name": "python",
   "nbconvert_exporter": "python",
   "pygments_lexer": "ipython3",
   "version": "3.10.13"
  }
 },
 "nbformat": 4,
 "nbformat_minor": 2
}
